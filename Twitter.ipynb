{
 "cells": [
  {
   "cell_type": "code",
   "execution_count": 1,
   "id": "8bd4c84f",
   "metadata": {},
   "outputs": [
    {
     "name": "stdout",
     "output_type": "stream",
     "text": [
      "Requirement already satisfied: snscrape in d:\\anaconda\\install\\lib\\site-packages (0.4.3.20220106)"
     ]
    },
    {
     "name": "stderr",
     "output_type": "stream",
     "text": [
      "WARNING: Ignoring invalid distribution -atplotlib (d:\\anaconda\\install\\lib\\site-packages)\n",
      "WARNING: Ignoring invalid distribution -atplotlib (d:\\anaconda\\install\\lib\\site-packages)\n",
      "WARNING: Ignoring invalid distribution -atplotlib (d:\\anaconda\\install\\lib\\site-packages)\n",
      "WARNING: Ignoring invalid distribution -atplotlib (d:\\anaconda\\install\\lib\\site-packages)\n",
      "WARNING: Ignoring invalid distribution -atplotlib (d:\\anaconda\\install\\lib\\site-packages)\n",
      "WARNING: Ignoring invalid distribution -atplotlib (d:\\anaconda\\install\\lib\\site-packages)\n"
     ]
    },
    {
     "name": "stdout",
     "output_type": "stream",
     "text": [
      "\n",
      "Requirement already satisfied: beautifulsoup4 in d:\\anaconda\\install\\lib\\site-packages (from snscrape) (4.11.1)\n",
      "Requirement already satisfied: filelock in d:\\anaconda\\install\\lib\\site-packages (from snscrape) (3.6.0)\n",
      "Requirement already satisfied: requests[socks] in d:\\anaconda\\install\\lib\\site-packages (from snscrape) (2.27.1)\n",
      "Requirement already satisfied: lxml in d:\\anaconda\\install\\lib\\site-packages (from snscrape) (4.8.0)\n",
      "Requirement already satisfied: soupsieve>1.2 in d:\\anaconda\\install\\lib\\site-packages (from beautifulsoup4->snscrape) (2.3.1)\n",
      "Requirement already satisfied: idna<4,>=2.5 in d:\\anaconda\\install\\lib\\site-packages (from requests[socks]->snscrape) (3.3)\n",
      "Requirement already satisfied: charset-normalizer~=2.0.0 in d:\\anaconda\\install\\lib\\site-packages (from requests[socks]->snscrape) (2.0.4)\n",
      "Requirement already satisfied: urllib3<1.27,>=1.21.1 in d:\\anaconda\\install\\lib\\site-packages (from requests[socks]->snscrape) (1.26.9)\n",
      "Requirement already satisfied: certifi>=2017.4.17 in d:\\anaconda\\install\\lib\\site-packages (from requests[socks]->snscrape) (2022.9.24)\n",
      "Requirement already satisfied: PySocks!=1.5.7,>=1.5.6 in d:\\anaconda\\install\\lib\\site-packages (from requests[socks]->snscrape) (1.7.1)\n"
     ]
    }
   ],
   "source": [
    "!pip install snscrape"
   ]
  },
  {
   "cell_type": "code",
   "execution_count": 3,
   "id": "73131593",
   "metadata": {},
   "outputs": [],
   "source": [
    "import pandas as pd\n",
    "from tqdm.notebook import tqdm\n",
    "import snscrape.modules.twitter as sntwitter"
   ]
  },
  {
   "cell_type": "markdown",
   "id": "aa981cb1",
   "metadata": {},
   "source": [
    "# Pulling and example twitter"
   ]
  },
  {
   "cell_type": "code",
   "execution_count": 23,
   "id": "f84328cc",
   "metadata": {},
   "outputs": [],
   "source": [
    "scraper = sntwitter.TwitterSearchScraper('#data science')"
   ]
  },
  {
   "cell_type": "code",
   "execution_count": 24,
   "id": "5d70445f",
   "metadata": {},
   "outputs": [
    {
     "data": {
      "text/plain": [
       "<snscrape.modules.twitter.TwitterSearchScraper at 0x27c14d616a0>"
      ]
     },
     "execution_count": 24,
     "metadata": {},
     "output_type": "execute_result"
    }
   ],
   "source": [
    "scraper"
   ]
  },
  {
   "cell_type": "code",
   "execution_count": 25,
   "id": "f80f4112",
   "metadata": {},
   "outputs": [
    {
     "data": {
      "text/plain": [
       "<generator object TwitterSearchScraper.get_items at 0x0000027C13C79740>"
      ]
     },
     "execution_count": 25,
     "metadata": {},
     "output_type": "execute_result"
    }
   ],
   "source": [
    "scraper.get_items()"
   ]
  },
  {
   "cell_type": "code",
   "execution_count": 26,
   "id": "c41e2eb8",
   "metadata": {},
   "outputs": [],
   "source": [
    "for tweet in scraper.get_items():\n",
    "    break"
   ]
  },
  {
   "cell_type": "code",
   "execution_count": 27,
   "id": "00edbf06",
   "metadata": {},
   "outputs": [
    {
     "data": {
      "text/plain": [
       "Tweet(url='https://twitter.com/study24x7/status/1603271519274090496', date=datetime.datetime(2022, 12, 15, 6, 11, 32, tzinfo=datetime.timezone.utc), content='Get the best results with Industry Experts Guidance....\\n\\n✨Data Science Certification Program With Study24x7.\\n\\n✅ The #1 ranked Professional Certificate Program in Data Science with Study24x7. \\n\\n✅ Registration Link - \\nhttps://t.co/k0Px7sdfvK?\\n#study24x7 #AnalysisofData  #Data https://t.co/OhdD8IFmHY', renderedContent='Get the best results with Industry Experts Guidance....\\n\\n✨Data Science Certification Program With Study24x7.\\n\\n✅ The #1 ranked Professional Certificate Program in Data Science with Study24x7. \\n\\n✅ Registration Link - \\ndocs.google.com/forms/d/e/1FAI…?\\n#study24x7 #AnalysisofData  #Data https://t.co/OhdD8IFmHY', id=1603271519274090496, user=User(username='study24x7', id=1027902551587348480, displayname='Study24x7', description='Study24x7 is a social medium with a motto to bridge the gap between #learners and #educators, connecting them on a common platform for sharing and learning.', rawDescription='Study24x7 is a social medium with a motto to bridge the gap between #learners and #educators, connecting them on a common platform for sharing and learning.', descriptionUrls=None, verified=False, created=datetime.datetime(2018, 8, 10, 13, 0, 40, tzinfo=datetime.timezone.utc), followersCount=193, friendsCount=298, statusesCount=393, favouritesCount=159, listedCount=0, mediaCount=350, location='Noida, India', protected=False, linkUrl='https://www.study24x7.com/', linkTcourl='https://t.co/Cx2mzCpMqP', profileImageUrl='https://pbs.twimg.com/profile_images/1371406620031250437/6Efq7KTG_normal.jpg', profileBannerUrl='https://pbs.twimg.com/profile_banners/1027902551587348480/1615803794', label=None), replyCount=0, retweetCount=0, likeCount=0, quoteCount=0, conversationId=1603271519274090496, lang='en', source='<a href=\"https://mobile.twitter.com\" rel=\"nofollow\">Twitter Web App</a>', sourceUrl='https://mobile.twitter.com', sourceLabel='Twitter Web App', outlinks=['https://docs.google.com/forms/d/e/1FAIpQLSeMe_PxQ7dm4NVNc0Gy7pnbP2l4rREQKeseONI0lL_NOd6Yzg/viewform'], tcooutlinks=['https://t.co/k0Px7sdfvK'], media=[Photo(previewUrl='https://pbs.twimg.com/media/Fj_1vdlUcAI3UQK?format=jpg&name=small', fullUrl='https://pbs.twimg.com/media/Fj_1vdlUcAI3UQK?format=jpg&name=large')], retweetedTweet=None, quotedTweet=None, inReplyToTweetId=None, inReplyToUser=None, mentionedUsers=None, coordinates=None, place=None, hashtags=['study24x7', 'AnalysisofData', 'Data'], cashtags=None)"
      ]
     },
     "execution_count": 27,
     "metadata": {},
     "output_type": "execute_result"
    }
   ],
   "source": [
    "tweet"
   ]
  },
  {
   "cell_type": "code",
   "execution_count": 28,
   "id": "6714b1b2",
   "metadata": {},
   "outputs": [
    {
     "data": {
      "text/plain": [
       "snscrape.modules.twitter.Tweet"
      ]
     },
     "execution_count": 28,
     "metadata": {},
     "output_type": "execute_result"
    }
   ],
   "source": [
    "type(tweet)"
   ]
  },
  {
   "cell_type": "markdown",
   "id": "f92b8fea",
   "metadata": {},
   "source": [
    "# Extract tweet data"
   ]
  },
  {
   "cell_type": "code",
   "execution_count": 29,
   "id": "ccd36cd8",
   "metadata": {},
   "outputs": [],
   "source": [
    "data = [\n",
    "    tweet.date, \n",
    "    tweet.id, \n",
    "    tweet.content, \n",
    "    tweet.user.username, \n",
    "    tweet.likeCount, \n",
    "    tweet.retweetCount\n",
    "]"
   ]
  },
  {
   "cell_type": "code",
   "execution_count": 30,
   "id": "8d33fc7f",
   "metadata": {},
   "outputs": [
    {
     "data": {
      "text/plain": [
       "[datetime.datetime(2022, 12, 15, 6, 11, 32, tzinfo=datetime.timezone.utc),\n",
       " 1603271519274090496,\n",
       " 'Get the best results with Industry Experts Guidance....\\n\\n✨Data Science Certification Program With Study24x7.\\n\\n✅ The #1 ranked Professional Certificate Program in Data Science with Study24x7. \\n\\n✅ Registration Link - \\nhttps://t.co/k0Px7sdfvK?\\n#study24x7 #AnalysisofData  #Data https://t.co/OhdD8IFmHY',\n",
       " 'study24x7',\n",
       " 0,\n",
       " 0]"
      ]
     },
     "execution_count": 30,
     "metadata": {},
     "output_type": "execute_result"
    }
   ],
   "source": [
    "data"
   ]
  },
  {
   "cell_type": "code",
   "execution_count": 31,
   "id": "737f0326",
   "metadata": {},
   "outputs": [],
   "source": [
    "scraper = sntwitter.TwitterSearchScraper('#data science')\n",
    "\n",
    "tweets = []\n",
    "\n",
    "for i, tweet in enumerate(scraper.get_items()):\n",
    "    data = [\n",
    "    tweet.date, \n",
    "    tweet.id, \n",
    "    tweet.content, \n",
    "    tweet.user.username, \n",
    "    tweet.likeCount, \n",
    "    tweet.retweetCount\n",
    "]\n",
    "    tweets.append(data)\n",
    "    if i > 100:\n",
    "        break"
   ]
  },
  {
   "cell_type": "code",
   "execution_count": 32,
   "id": "41fff2a6",
   "metadata": {},
   "outputs": [
    {
     "data": {
      "text/plain": [
       "102"
      ]
     },
     "execution_count": 32,
     "metadata": {},
     "output_type": "execute_result"
    }
   ],
   "source": [
    "len(tweets)"
   ]
  },
  {
   "cell_type": "code",
   "execution_count": 33,
   "id": "7d11f4a0",
   "metadata": {},
   "outputs": [],
   "source": [
    "tweet_df = pd.DataFrame(tweets, columns=['date','id','content','username','like_Count', 'retweet_Count'])"
   ]
  },
  {
   "cell_type": "code",
   "execution_count": 34,
   "id": "ecd690e6",
   "metadata": {},
   "outputs": [
    {
     "data": {
      "text/html": [
       "<div>\n",
       "<style scoped>\n",
       "    .dataframe tbody tr th:only-of-type {\n",
       "        vertical-align: middle;\n",
       "    }\n",
       "\n",
       "    .dataframe tbody tr th {\n",
       "        vertical-align: top;\n",
       "    }\n",
       "\n",
       "    .dataframe thead th {\n",
       "        text-align: right;\n",
       "    }\n",
       "</style>\n",
       "<table border=\"1\" class=\"dataframe\">\n",
       "  <thead>\n",
       "    <tr style=\"text-align: right;\">\n",
       "      <th></th>\n",
       "      <th>date</th>\n",
       "      <th>id</th>\n",
       "      <th>content</th>\n",
       "      <th>username</th>\n",
       "      <th>like_Count</th>\n",
       "      <th>retweet_Count</th>\n",
       "    </tr>\n",
       "  </thead>\n",
       "  <tbody>\n",
       "    <tr>\n",
       "      <th>0</th>\n",
       "      <td>2022-12-15 06:11:32+00:00</td>\n",
       "      <td>1603271519274090496</td>\n",
       "      <td>Get the best results with Industry Experts Gui...</td>\n",
       "      <td>study24x7</td>\n",
       "      <td>0</td>\n",
       "      <td>0</td>\n",
       "    </tr>\n",
       "    <tr>\n",
       "      <th>1</th>\n",
       "      <td>2022-12-15 05:47:19+00:00</td>\n",
       "      <td>1603265424224821248</td>\n",
       "      <td>US Senate passes bill to ban TikTok on governm...</td>\n",
       "      <td>3novices</td>\n",
       "      <td>0</td>\n",
       "      <td>0</td>\n",
       "    </tr>\n",
       "    <tr>\n",
       "      <th>2</th>\n",
       "      <td>2022-12-15 05:47:18+00:00</td>\n",
       "      <td>1603265422689722373</td>\n",
       "      <td>Shallow 6.2-magnitude earthquake jolts Taiwan ...</td>\n",
       "      <td>3novices</td>\n",
       "      <td>0</td>\n",
       "      <td>0</td>\n",
       "    </tr>\n",
       "    <tr>\n",
       "      <th>3</th>\n",
       "      <td>2022-12-15 05:37:52+00:00</td>\n",
       "      <td>1603263047241326592</td>\n",
       "      <td>What is Machine Learning ? \\n\\nMachine learnin...</td>\n",
       "      <td>DigiTech_Inf0</td>\n",
       "      <td>0</td>\n",
       "      <td>0</td>\n",
       "    </tr>\n",
       "    <tr>\n",
       "      <th>4</th>\n",
       "      <td>2022-12-15 03:49:35+00:00</td>\n",
       "      <td>1603235797414600704</td>\n",
       "      <td>#COP15: A #Global summit to safeguard nature ....</td>\n",
       "      <td>MrMarchi</td>\n",
       "      <td>0</td>\n",
       "      <td>0</td>\n",
       "    </tr>\n",
       "    <tr>\n",
       "      <th>...</th>\n",
       "      <td>...</td>\n",
       "      <td>...</td>\n",
       "      <td>...</td>\n",
       "      <td>...</td>\n",
       "      <td>...</td>\n",
       "      <td>...</td>\n",
       "    </tr>\n",
       "    <tr>\n",
       "      <th>97</th>\n",
       "      <td>2022-12-14 02:57:30+00:00</td>\n",
       "      <td>1602860301728129026</td>\n",
       "      <td>#sCiEnCe 🙌🤡😂\\n\\n#jOuRnALiSm #data #statistics ...</td>\n",
       "      <td>ChrisJNeedham</td>\n",
       "      <td>0</td>\n",
       "      <td>0</td>\n",
       "    </tr>\n",
       "    <tr>\n",
       "      <th>98</th>\n",
       "      <td>2022-12-14 01:40:02+00:00</td>\n",
       "      <td>1602840809140879360</td>\n",
       "      <td>#cybermonday2022 | Machine Learning A-Z�: Hand...</td>\n",
       "      <td>Jadirectivestwt</td>\n",
       "      <td>1</td>\n",
       "      <td>0</td>\n",
       "    </tr>\n",
       "    <tr>\n",
       "      <th>99</th>\n",
       "      <td>2022-12-14 00:50:36+00:00</td>\n",
       "      <td>1602828368566788096</td>\n",
       "      <td>Biden signs same-sex marriage protections into...</td>\n",
       "      <td>3novices</td>\n",
       "      <td>0</td>\n",
       "      <td>0</td>\n",
       "    </tr>\n",
       "    <tr>\n",
       "      <th>100</th>\n",
       "      <td>2022-12-14 00:50:36+00:00</td>\n",
       "      <td>1602828366964482048</td>\n",
       "      <td>New Zealand passes law to ban smoking for next...</td>\n",
       "      <td>3novices</td>\n",
       "      <td>0</td>\n",
       "      <td>0</td>\n",
       "    </tr>\n",
       "    <tr>\n",
       "      <th>101</th>\n",
       "      <td>2022-12-13 23:55:52+00:00</td>\n",
       "      <td>1602814594103255040</td>\n",
       "      <td>Data Science is the future of work and Machine...</td>\n",
       "      <td>TheNewStat1</td>\n",
       "      <td>0</td>\n",
       "      <td>0</td>\n",
       "    </tr>\n",
       "  </tbody>\n",
       "</table>\n",
       "<p>102 rows × 6 columns</p>\n",
       "</div>"
      ],
      "text/plain": [
       "                         date                   id  \\\n",
       "0   2022-12-15 06:11:32+00:00  1603271519274090496   \n",
       "1   2022-12-15 05:47:19+00:00  1603265424224821248   \n",
       "2   2022-12-15 05:47:18+00:00  1603265422689722373   \n",
       "3   2022-12-15 05:37:52+00:00  1603263047241326592   \n",
       "4   2022-12-15 03:49:35+00:00  1603235797414600704   \n",
       "..                        ...                  ...   \n",
       "97  2022-12-14 02:57:30+00:00  1602860301728129026   \n",
       "98  2022-12-14 01:40:02+00:00  1602840809140879360   \n",
       "99  2022-12-14 00:50:36+00:00  1602828368566788096   \n",
       "100 2022-12-14 00:50:36+00:00  1602828366964482048   \n",
       "101 2022-12-13 23:55:52+00:00  1602814594103255040   \n",
       "\n",
       "                                               content         username  \\\n",
       "0    Get the best results with Industry Experts Gui...        study24x7   \n",
       "1    US Senate passes bill to ban TikTok on governm...         3novices   \n",
       "2    Shallow 6.2-magnitude earthquake jolts Taiwan ...         3novices   \n",
       "3    What is Machine Learning ? \\n\\nMachine learnin...    DigiTech_Inf0   \n",
       "4    #COP15: A #Global summit to safeguard nature ....         MrMarchi   \n",
       "..                                                 ...              ...   \n",
       "97   #sCiEnCe 🙌🤡😂\\n\\n#jOuRnALiSm #data #statistics ...    ChrisJNeedham   \n",
       "98   #cybermonday2022 | Machine Learning A-Z�: Hand...  Jadirectivestwt   \n",
       "99   Biden signs same-sex marriage protections into...         3novices   \n",
       "100  New Zealand passes law to ban smoking for next...         3novices   \n",
       "101  Data Science is the future of work and Machine...      TheNewStat1   \n",
       "\n",
       "     like_Count  retweet_Count  \n",
       "0             0              0  \n",
       "1             0              0  \n",
       "2             0              0  \n",
       "3             0              0  \n",
       "4             0              0  \n",
       "..          ...            ...  \n",
       "97            0              0  \n",
       "98            1              0  \n",
       "99            0              0  \n",
       "100           0              0  \n",
       "101           0              0  \n",
       "\n",
       "[102 rows x 6 columns]"
      ]
     },
     "execution_count": 34,
     "metadata": {},
     "output_type": "execute_result"
    }
   ],
   "source": [
    "tweet_df"
   ]
  },
  {
   "cell_type": "code",
   "execution_count": 35,
   "id": "ec85bd25",
   "metadata": {},
   "outputs": [],
   "source": [
    "tweet_df.to_csv('tweets_sample_data_QingShen.csv', index=False)"
   ]
  },
  {
   "cell_type": "markdown",
   "id": "94ea3cd9",
   "metadata": {},
   "source": [
    "# Adding a progress bar"
   ]
  },
  {
   "cell_type": "code",
   "execution_count": 36,
   "id": "2b534885",
   "metadata": {},
   "outputs": [
    {
     "data": {
      "application/vnd.jupyter.widget-view+json": {
       "model_id": "956c0bac1a714433977229ede0420eeb",
       "version_major": 2,
       "version_minor": 0
      },
      "text/plain": [
       "  0%|          | 0/200 [00:00<?, ?it/s]"
      ]
     },
     "metadata": {},
     "output_type": "display_data"
    }
   ],
   "source": [
    "scraper = sntwitter.TwitterSearchScraper('#data science')\n",
    "\n",
    "tweets = []\n",
    "n_tweets = 200\n",
    "\n",
    "for i, tweet in tqdm(enumerate(scraper.get_items()), total=n_tweets):\n",
    "    data = [\n",
    "    tweet.date, \n",
    "    tweet.id, \n",
    "    tweet.content, \n",
    "    tweet.user.username, \n",
    "    tweet.likeCount, \n",
    "    tweet.retweetCount\n",
    "]\n",
    "    tweets.append(data)\n",
    "    if i > n_tweets:\n",
    "        break\n",
    "\n",
    "tweet_df = pd.DataFrame(\n",
    "    tweets, columns=['date','id','content','username','like_Count', 'retweet_Count']\n",
    ")\n",
    "tweet_df.to_csv('python_tweets2.csv', index=False)"
   ]
  },
  {
   "cell_type": "code",
   "execution_count": null,
   "id": "f48e098c",
   "metadata": {},
   "outputs": [],
   "source": []
  }
 ],
 "metadata": {
  "kernelspec": {
   "display_name": "Python 3 (ipykernel)",
   "language": "python",
   "name": "python3"
  },
  "language_info": {
   "codemirror_mode": {
    "name": "ipython",
    "version": 3
   },
   "file_extension": ".py",
   "mimetype": "text/x-python",
   "name": "python",
   "nbconvert_exporter": "python",
   "pygments_lexer": "ipython3",
   "version": "3.9.12"
  },
  "toc": {
   "base_numbering": 1,
   "nav_menu": {},
   "number_sections": true,
   "sideBar": true,
   "skip_h1_title": false,
   "title_cell": "Table of Contents",
   "title_sidebar": "Contents",
   "toc_cell": false,
   "toc_position": {},
   "toc_section_display": true,
   "toc_window_display": false
  }
 },
 "nbformat": 4,
 "nbformat_minor": 5
}
